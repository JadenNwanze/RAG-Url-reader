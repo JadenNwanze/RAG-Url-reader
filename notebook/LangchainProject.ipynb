{
 "cells": [
  {
   "cell_type": "markdown",
   "id": "401fcbe3-ba96-42a4-b9f7-1968c365af97",
   "metadata": {},
   "source": [
    "importing depencies"
   ]
  },
  {
   "cell_type": "code",
   "execution_count": 1,
   "id": "48eea1b0-5aff-42d3-8831-220b6d3ecd63",
   "metadata": {},
   "outputs": [],
   "source": [
    "from langchain.vectorstores import FAISS\n",
    "from langchain.embeddings import HuggingFaceEmbeddings\n",
    "from langchain.docstore.document import Document\n",
    "from langchain.document_loaders import UnstructuredURLLoader\n",
    "from langchain.text_splitter import RecursiveCharacterTextSplitter"
   ]
  },
  {
   "cell_type": "code",
   "execution_count": 2,
   "id": "952d9f7a-7c38-4f9d-8702-1e92f62cfb0f",
   "metadata": {},
   "outputs": [
    {
     "name": "stdout",
     "output_type": "stream",
     "text": [
      "Sitemap\n",
      "\n",
      "Open in app\n",
      "\n",
      "Sign in\n",
      "\n",
      "Write\n",
      "\n",
      "Sign in\n",
      "\n",
      "Data And Beyond\n",
      "\n",
      "Data And Beyond\n",
      "\n",
      "Selected stories around Data Science, Machine Learning, Artificial Intelligence, Programming, and Technology topics. Writing guide: https://medium.com/data-and-beyond/how-to-write-for-data-and-beyond-b83ff0f3813e\n",
      "\n",
      "Member-only story\n",
      "\n",
      "Building with LangChain: An Introduction and Implementation Guide\n",
      "\n",
      "Shreyansh Jain\n",
      "\n",
      "Shreyansh Jain\n",
      "\n",
      "5 min read\n",
      "\n",
      "Mar 23, 2025\n",
      "\n",
      "--\n",
      "\n",
      "For those who don’t have Medium Membership can read this \n"
     ]
    }
   ],
   "source": [
    "Urls = [\"https://medium.com/data-and-beyond/building-with-langchain-an-introduction-and-implementation-guide-4f908bc6bf5f\"]\n",
    "loader = UnstructuredURLLoader(urls= Urls)\n",
    "docs = loader.load()\n",
    "print(docs[0].page_content[:500])"
   ]
  },
  {
   "cell_type": "code",
   "execution_count": 3,
   "id": "c54e67c4-abe7-47db-94e4-f53412124def",
   "metadata": {},
   "outputs": [],
   "source": [
    "splitter = RecursiveCharacterTextSplitter(\n",
    "    chunk_size=200,\n",
    "    chunk_overlap=100,\n",
    "    separators=[\"\\n\\n\", \"\\n\",\" \",\".\"]\n",
    ")\n",
    "\n",
    "chunks = splitter.split_documents(docs)\n"
   ]
  },
  {
   "cell_type": "code",
   "execution_count": 4,
   "id": "487d48c1-0985-488c-9daf-8630bab061f5",
   "metadata": {},
   "outputs": [
    {
     "name": "stderr",
     "output_type": "stream",
     "text": [
      "C:\\Users\\User\\AppData\\Local\\Temp\\ipykernel_7544\\3483614120.py:1: LangChainDeprecationWarning: The class `HuggingFaceEmbeddings` was deprecated in LangChain 0.2.2 and will be removed in 1.0. An updated version of the class exists in the :class:`~langchain-huggingface package and should be used instead. To use it run `pip install -U :class:`~langchain-huggingface` and import as `from :class:`~langchain_huggingface import HuggingFaceEmbeddings``.\n",
      "  embedding_function = HuggingFaceEmbeddings(model_name=\"all-MiniLM-L6-v2\")\n"
     ]
    }
   ],
   "source": [
    "embedding_function = HuggingFaceEmbeddings(model_name=\"all-MiniLM-L6-v2\")\n",
    "vectorstore = FAISS.from_documents(chunks, embedding=embedding_function)"
   ]
  },
  {
   "cell_type": "code",
   "execution_count": 7,
   "id": "d627030e-af2f-4a1f-8fef-42add5fed502",
   "metadata": {},
   "outputs": [
    {
     "data": {
      "application/vnd.jupyter.widget-view+json": {
       "model_id": "48162ce8cd784973977d247c9e8af769",
       "version_major": 2,
       "version_minor": 0
      },
      "text/plain": [
       "generation_config.json:   0%|          | 0.00/147 [00:00<?, ?B/s]"
      ]
     },
     "metadata": {},
     "output_type": "display_data"
    },
    {
     "data": {
      "application/vnd.jupyter.widget-view+json": {
       "model_id": "159d723eaa124c66ad2de3e0134e47ff",
       "version_major": 2,
       "version_minor": 0
      },
      "text/plain": [
       "tokenizer_config.json: 0.00B [00:00, ?B/s]"
      ]
     },
     "metadata": {},
     "output_type": "display_data"
    },
    {
     "data": {
      "application/vnd.jupyter.widget-view+json": {
       "model_id": "d1e5f501df1a4d61baed559e89910452",
       "version_major": 2,
       "version_minor": 0
      },
      "text/plain": [
       "spiece.model:   0%|          | 0.00/792k [00:00<?, ?B/s]"
      ]
     },
     "metadata": {},
     "output_type": "display_data"
    },
    {
     "data": {
      "application/vnd.jupyter.widget-view+json": {
       "model_id": "be31ea025eb84e1ab55756f9e7631a27",
       "version_major": 2,
       "version_minor": 0
      },
      "text/plain": [
       "tokenizer.json: 0.00B [00:00, ?B/s]"
      ]
     },
     "metadata": {},
     "output_type": "display_data"
    },
    {
     "data": {
      "application/vnd.jupyter.widget-view+json": {
       "model_id": "0993ce0be09241dab5492a1bebc68388",
       "version_major": 2,
       "version_minor": 0
      },
      "text/plain": [
       "special_tokens_map.json: 0.00B [00:00, ?B/s]"
      ]
     },
     "metadata": {},
     "output_type": "display_data"
    },
    {
     "name": "stderr",
     "output_type": "stream",
     "text": [
      "Device set to use cpu\n",
      "C:\\Users\\User\\AppData\\Local\\Temp\\ipykernel_7544\\1753095704.py:5: LangChainDeprecationWarning: The class `HuggingFacePipeline` was deprecated in LangChain 0.0.37 and will be removed in 1.0. An updated version of the class exists in the :class:`~langchain-huggingface package and should be used instead. To use it run `pip install -U :class:`~langchain-huggingface` and import as `from :class:`~langchain_huggingface import HuggingFacePipeline``.\n",
      "  llm = HuggingFacePipeline(pipeline=pipe)\n"
     ]
    }
   ],
   "source": [
    "from transformers import pipeline\n",
    "from langchain.llms import HuggingFacePipeline\n",
    "\n",
    "pipe = pipeline(\"text2text-generation\", model=\"google/flan-t5-small\", max_length=512)\n",
    "llm = HuggingFacePipeline(pipeline=pipe)"
   ]
  },
  {
   "cell_type": "code",
   "execution_count": 11,
   "id": "3f7c9ebf-4f60-48ea-94d8-5094e66e5f49",
   "metadata": {},
   "outputs": [
    {
     "name": "stdout",
     "output_type": "stream",
     "text": [
      "Answer: a Python library that provides a one stop solution for easy development and deployment of LLM models\n",
      "\n",
      "Sources:\n",
      "- Introduction\n",
      "\n",
      "LangChain is a Python Library that provides a one stop solution for easy development and deployement of LLM models.\n",
      "\n",
      "LangChain simplifies every stage of the LLM application lifecycle: ...\n",
      "- LangChain offers a comprehensive solution for building, fine-tuning, developing, and deploying large language models (LLMs). It streamlines the entire workflow, ensuring efficient and effective model ...\n",
      "- Member-only story\n",
      "\n",
      "Building with LangChain: An Introduction and Implementation Guide\n",
      "\n",
      "Shreyansh Jain\n",
      "\n",
      "Shreyansh Jain\n",
      "\n",
      "5 min read\n",
      "\n",
      "Mar 23, 2025\n",
      "\n",
      "-- ...\n",
      "- Development: Build your applications using LangChain’s open-source components and third-party integrations. Use LangGraph to build stateful agents with first-class streaming and human-in-the-loop ...\n"
     ]
    }
   ],
   "source": [
    "from langchain.chains import RetrievalQA\n",
    "\n",
    "retriever = vectorstore.as_retriever(search_type=\"similarity\", k=3)\n",
    "\n",
    "qa_chain = RetrievalQA.from_chain_type(\n",
    "    llm=llm,\n",
    "    retriever=retriever,\n",
    "    return_source_documents=True\n",
    ")\n",
    "\n",
    "# Ask a question\n",
    "query = \"What does LangChain do?\"\n",
    "result = qa_chain({\"query\": query})\n",
    "\n",
    "print(\"Answer:\", result[\"result\"])\n",
    "print(\"\\nSources:\")\n",
    "for doc in result[\"source_documents\"]:\n",
    "    print(\"-\", doc.page_content[:200], \"...\")\n"
   ]
  },
  {
   "cell_type": "code",
   "execution_count": null,
   "id": "5e93d784-6b89-4fa1-a345-11c7460335f8",
   "metadata": {},
   "outputs": [],
   "source": []
  }
 ],
 "metadata": {
  "kernelspec": {
   "display_name": "Python (tf_env)",
   "language": "python",
   "name": "tf_env"
  },
  "language_info": {
   "codemirror_mode": {
    "name": "ipython",
    "version": 3
   },
   "file_extension": ".py",
   "mimetype": "text/x-python",
   "name": "python",
   "nbconvert_exporter": "python",
   "pygments_lexer": "ipython3",
   "version": "3.11.9"
  }
 },
 "nbformat": 4,
 "nbformat_minor": 5
}
